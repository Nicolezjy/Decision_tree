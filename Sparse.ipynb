{
 "cells": [
  {
   "cell_type": "code",
   "execution_count": 8,
   "metadata": {},
   "outputs": [],
   "source": [
    "# 导入必要的工具包\n",
    "import xgboost as xgb\n",
    "import numpy as np\n",
    "import sys\n",
    "\n",
    "# 计算分类正确率\n",
    "from sklearn.metrics import accuracy_score"
   ]
  },
  {
   "cell_type": "code",
   "execution_count": 11,
   "metadata": {},
   "outputs": [],
   "source": [
    "#数据读取\n",
    "path = 'C:/Users/zjy/Desktop/Source/Python/Code/Trianing/W3/code/data/'\n",
    "train = xgb.DMatrix(path + 'RentListingInquries_FE_train.bin')\n",
    "test = xgb.DMatrix(path + 'RentListingInquries_FE_test.bin')"
   ]
  },
  {
   "cell_type": "code",
   "execution_count": 16,
   "metadata": {},
   "outputs": [
    {
     "name": "stdout",
     "output_type": "stream",
     "text": [
      "Train Accuary: 70.37%\n"
     ]
    }
   ],
   "source": [
    "#训练参数\n",
    "param = {'max_depth':2, 'eta':1, 'silent':0, 'objective':'multi:softmax','num_class':3 }\n",
    "\n",
    "#训练模型\n",
    "# 设置boosting迭代计算次数，即若学习器（决策树）的数目\n",
    "num_round = 2\n",
    "bst = xgb.train(param, train, num_round)\n",
    "\n",
    "train_preds = bst.predict(train)\n",
    "train_predictions = [round(value) for value in train_preds]\n",
    "y_train = train.get_label()\n",
    "train_accuracy = accuracy_score(y_train, train_predictions)\n",
    "print (\"Train Accuary: %.2f%%\" % (train_accuracy * 100.0))"
   ]
  },
  {
   "cell_type": "code",
   "execution_count": 19,
   "metadata": {},
   "outputs": [
    {
     "name": "stdout",
     "output_type": "stream",
     "text": [
      "[2. 2. 2. ... 2. 1. 2.]\n"
     ]
    }
   ],
   "source": [
    "#保存模型并测试\n",
    "# save model\n",
    "bst.save_model('xgb.model')\n",
    "\n",
    "# load model and test\n",
    "bst2 = xgb.Booster(model_file='xgb.model')\n",
    "test_preds = bst2.predict(test)\n",
    "\n",
    "print(test_preds)"
   ]
  },
  {
   "cell_type": "code",
   "execution_count": 26,
   "metadata": {},
   "outputs": [
    {
     "name": "stdout",
     "output_type": "stream",
     "text": [
      "end!\n"
     ]
    }
   ],
   "source": [
    "#保存结果\n",
    "with open('./result.bin') as  f1:\n",
    "    test_preds.tofile(\"result.bin\")\n",
    "\n",
    "f1.close()#执行完毕关闭文件\n",
    "\n",
    "\n",
    "print(\"end!\")"
   ]
  },
  {
   "cell_type": "code",
   "execution_count": null,
   "metadata": {},
   "outputs": [],
   "source": []
  }
 ],
 "metadata": {
  "kernelspec": {
   "display_name": "Python 3",
   "language": "python",
   "name": "python3"
  },
  "language_info": {
   "codemirror_mode": {
    "name": "ipython",
    "version": 3
   },
   "file_extension": ".py",
   "mimetype": "text/x-python",
   "name": "python",
   "nbconvert_exporter": "python",
   "pygments_lexer": "ipython3",
   "version": "3.6.5"
  }
 },
 "nbformat": 4,
 "nbformat_minor": 2
}
